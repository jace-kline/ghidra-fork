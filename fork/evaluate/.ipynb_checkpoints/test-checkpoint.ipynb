{
 "cells": [
  {
   "cell_type": "code",
   "execution_count": 1,
   "metadata": {},
   "outputs": [],
   "source": [
    "# imports\n",
    "\n",
    "# libs\n",
    "import numpy as np\n",
    "import pandas as pd\n",
    "\n",
    "# local\n",
    "from build_parse import *\n",
    "from metrics import *\n",
    "from program_metrics import *"
   ]
  },
  {
   "cell_type": "code",
   "execution_count": 2,
   "metadata": {},
   "outputs": [],
   "source": [
    "prognames = [ \"ndarray\", \"typecases\", \"p0\", \"structcases\" ]\n",
    "progs = [ ToyProgram(progname) for progname in prognames ]\n",
    "opts = BuildOptions()\n",
    "\n",
    "dfs = [\n",
    "    compute_program_metrics_dataframe(\n",
    "        progs,\n",
    "        opts,\n",
    "        metrics_grp\n",
    "    ) for metrics_grp in make_metrics()\n",
    "]"
   ]
  },
  {
   "cell_type": "code",
   "execution_count": 3,
   "metadata": {},
   "outputs": [
    {
     "data": {
      "text/html": [
       "<div>\n",
       "<style scoped>\n",
       "    .dataframe tbody tr th:only-of-type {\n",
       "        vertical-align: middle;\n",
       "    }\n",
       "\n",
       "    .dataframe tbody tr th {\n",
       "        vertical-align: top;\n",
       "    }\n",
       "\n",
       "    .dataframe thead th {\n",
       "        text-align: right;\n",
       "    }\n",
       "</style>\n",
       "<table border=\"1\" class=\"dataframe\">\n",
       "  <thead>\n",
       "    <tr style=\"text-align: right;\">\n",
       "      <th></th>\n",
       "      <th>Ground truth data bytes</th>\n",
       "      <th>Decompiler data bytes</th>\n",
       "      <th>Overlapped data bytes</th>\n",
       "      <th>Missed data bytes</th>\n",
       "      <th>Extraneous decompiler data bytes</th>\n",
       "    </tr>\n",
       "  </thead>\n",
       "  <tbody>\n",
       "    <tr>\n",
       "      <th>ndarray</th>\n",
       "      <td>4440</td>\n",
       "      <td>4416</td>\n",
       "      <td>4400</td>\n",
       "      <td>40</td>\n",
       "      <td>16</td>\n",
       "    </tr>\n",
       "    <tr>\n",
       "      <th>typecases</th>\n",
       "      <td>584</td>\n",
       "      <td>572</td>\n",
       "      <td>548</td>\n",
       "      <td>36</td>\n",
       "      <td>24</td>\n",
       "    </tr>\n",
       "    <tr>\n",
       "      <th>p0</th>\n",
       "      <td>61</td>\n",
       "      <td>64</td>\n",
       "      <td>56</td>\n",
       "      <td>5</td>\n",
       "      <td>8</td>\n",
       "    </tr>\n",
       "    <tr>\n",
       "      <th>structcases</th>\n",
       "      <td>80</td>\n",
       "      <td>79</td>\n",
       "      <td>67</td>\n",
       "      <td>13</td>\n",
       "      <td>12</td>\n",
       "    </tr>\n",
       "  </tbody>\n",
       "</table>\n",
       "</div>"
      ],
      "text/plain": [
       "             Ground truth data bytes  Decompiler data bytes  \\\n",
       "ndarray                         4440                   4416   \n",
       "typecases                        584                    572   \n",
       "p0                                61                     64   \n",
       "structcases                       80                     79   \n",
       "\n",
       "             Overlapped data bytes  Missed data bytes  \\\n",
       "ndarray                       4400                 40   \n",
       "typecases                      548                 36   \n",
       "p0                              56                  5   \n",
       "structcases                     67                 13   \n",
       "\n",
       "             Extraneous decompiler data bytes  \n",
       "ndarray                                    16  \n",
       "typecases                                  24  \n",
       "p0                                          8  \n",
       "structcases                                12  "
      ]
     },
     "execution_count": 3,
     "metadata": {},
     "output_type": "execute_result"
    }
   ],
   "source": [
    "dfs[0]"
   ]
  }
 ],
 "metadata": {
  "kernelspec": {
   "display_name": "Python 3 (ipykernel)",
   "language": "python",
   "name": "python3"
  },
  "language_info": {
   "codemirror_mode": {
    "name": "ipython",
    "version": 3
   },
   "file_extension": ".py",
   "mimetype": "text/x-python",
   "name": "python",
   "nbconvert_exporter": "python",
   "pygments_lexer": "ipython3",
   "version": "3.8.10"
  },
  "vscode": {
   "interpreter": {
    "hash": "f6e7b021119d7a5dd422a2c13e3c0fbb64a88bb4180f02b3942dd20f71a59963"
   }
  }
 },
 "nbformat": 4,
 "nbformat_minor": 2
}
