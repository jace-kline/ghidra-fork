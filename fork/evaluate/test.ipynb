{
 "cells": [
  {
   "cell_type": "code",
   "execution_count": 1,
   "metadata": {},
   "outputs": [],
   "source": [
    "# imports\n",
    "\n",
    "# libs\n",
    "import numpy as np\n",
    "import pandas as pd\n",
    "\n",
    "# local\n",
    "from build_parse import *\n",
    "from metrics import *\n",
    "from program_metrics import *"
   ]
  },
  {
   "cell_type": "code",
   "execution_count": null,
   "metadata": {},
   "outputs": [],
   "source": [
    "prognames = [ \"ndarray\", \"typecases\", \"p0\", \"structcases\" ]\n",
    "progs = [ ToyProgram(progname) for progname in prognames ]\n",
    "opts = BuildOptions()\n",
    "\n",
    "for metrics_grp in make_metrics():\n",
    "    grid = compute_program_metrics_dataframe(\n",
    "        progs,\n",
    "        opts,\n",
    "        metrics_grp\n",
    "    )\n",
    "    print(grid)"
   ]
  }
 ],
 "metadata": {
  "kernelspec": {
   "display_name": "Python 3.8.10 64-bit",
   "language": "python",
   "name": "python3"
  },
  "language_info": {
   "codemirror_mode": {
    "name": "ipython",
    "version": 3
   },
   "file_extension": ".py",
   "mimetype": "text/x-python",
   "name": "python",
   "nbconvert_exporter": "python",
   "pygments_lexer": "ipython3",
   "version": "3.8.10"
  },
  "orig_nbformat": 4,
  "vscode": {
   "interpreter": {
    "hash": "e7370f93d1d0cde622a1f8e1c04877d8463912d04d973331ad4851f04de6915a"
   }
  }
 },
 "nbformat": 4,
 "nbformat_minor": 2
}
